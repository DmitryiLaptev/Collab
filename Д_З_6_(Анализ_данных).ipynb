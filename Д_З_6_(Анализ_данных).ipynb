{
  "nbformat": 4,
  "nbformat_minor": 0,
  "metadata": {
    "colab": {
      "provenance": [],
      "authorship_tag": "ABX9TyOKJelQ+PL3sH+jSaW/quHJ",
      "include_colab_link": true
    },
    "kernelspec": {
      "name": "python3",
      "display_name": "Python 3"
    },
    "language_info": {
      "name": "python"
    }
  },
  "cells": [
    {
      "cell_type": "markdown",
      "metadata": {
        "id": "view-in-github",
        "colab_type": "text"
      },
      "source": [
        "<a href=\"https://colab.research.google.com/github/DmitryiLaptev/Tinkoff_data_analysis/blob/main/%D0%94_%D0%97_6_(%D0%90%D0%BD%D0%B0%D0%BB%D0%B8%D0%B7_%D0%B4%D0%B0%D0%BD%D0%BD%D1%8B%D1%85).ipynb\" target=\"_parent\"><img src=\"https://colab.research.google.com/assets/colab-badge.svg\" alt=\"Open In Colab\"/></a>"
      ]
    },
    {
      "cell_type": "code",
      "execution_count": null,
      "metadata": {
        "colab": {
          "base_uri": "https://localhost:8080/"
        },
        "id": "_sg1A2vbhyOm",
        "outputId": "58e9285b-83ef-4363-beeb-2b0e414551f8"
      },
      "outputs": [
        {
          "output_type": "execute_result",
          "data": {
            "text/plain": [
              "(0.9710067699130659, 1.1052691688876874)"
            ]
          },
          "metadata": {},
          "execution_count": 11
        }
      ],
      "source": [
        "from os import XATTR_REPLACE\n",
        "import pandas as pd\n",
        "import numpy as np\n",
        "\n",
        "from scipy.stats import norm\n",
        "\n",
        "\n",
        "#chat_id = 766298455 # Ваш chat ID, не меняйте название переменной\n",
        "\n",
        "def solution(p: float, x: np.array) -> tuple:\n",
        "    # Измените код этой функции\n",
        "    # Это будет вашим решением\n",
        "    # Не меняйте название функции и её аргументы\n",
        "    alpha = 1 - p\n",
        "    k=14\n",
        "    n=len(x)\n",
        "    S2 = sum([e ** 2 for e in x])\n",
        "    ql = np.sqrt(S2 / (k * norm.ppf(1 - alpha / 2, n * 2)))\n",
        "    qr = np.sqrt(S2 / (k * norm.ppf(alpha / 2, n * 2)))\n",
        "    return  ql, qr\n",
        "\n",
        "solution(0.99, [1,3,-3,-1,5,6,7,8,-10,2])"
      ]
    }
  ]
}